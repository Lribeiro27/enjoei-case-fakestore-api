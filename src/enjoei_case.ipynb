{
 "cells": [
  {
   "cell_type": "code",
   "execution_count": 94,
   "id": "9ecb4164-fd38-4936-9acb-0b42b2a137aa",
   "metadata": {},
   "outputs": [],
   "source": [
    "#Imports\n",
    "import requests\n",
    "import pandas as pd\n",
    "import pandasql as psql"
   ]
  },
  {
   "cell_type": "code",
   "execution_count": 95,
   "id": "d09e0312-ee46-4b73-aa25-5e0f509213f8",
   "metadata": {},
   "outputs": [],
   "source": [
    "#Url da Fake Store API\n",
    "url = 'https://fakestoreapi.com/'"
   ]
  },
  {
   "cell_type": "code",
   "execution_count": 96,
   "id": "379f004b-dca5-46c4-b061-0cc8fa782820",
   "metadata": {},
   "outputs": [],
   "source": [
    "#Definindo a função que faz a chamada à API FakeStore, retornando o json com os resultados ou uma exceção.\n",
    "def fetch_data(endpoint):\n",
    "    \"\"\"\n",
    "    Busca dados na FakeStore API com base em um endpoint.\n",
    "\n",
    "    Parâmetros:\n",
    "    endpoint (str): O Endpoint em que queremos buscar os dados.\n",
    "\n",
    "    Retorno:\n",
    "    dict ou None: O JSON de resposta da api se a requisição for bem sucedida, se não for, retorna um None.\n",
    "    \"\"\"\n",
    "    try: \n",
    "        response = requests.get(f'{url}{endpoint}')\n",
    "        response.raise_for_status()\n",
    "        return response.json()\n",
    "    except requests.exceptions.RequestException as e:\n",
    "        print(f\"Erro ao buscar dados do endpoint {endpoint}: {e}\")\n",
    "        return None"
   ]
  },
  {
   "cell_type": "code",
   "execution_count": 97,
   "id": "296f479c-8539-47ee-a81b-c62655615dd0",
   "metadata": {},
   "outputs": [],
   "source": [
    "#No desenvolvimento do código notei que várias colunas vieram aninhadas \"nested columns\" e optei \n",
    "#por criar uma função que faça o tratamento do problema.\n",
    "def normalize_nested_columns(df, coluna):\n",
    "    \"\"\"\n",
    "    Normaliza uma coluna aninhada em um DataFrame.\n",
    "\n",
    "    Parâmetros:\n",
    "    df (pd.DataFrame): O DataFrame contendo a coluna aninhada.\n",
    "    coluna (str): O nome da coluna aninhada à ser normalizada.\n",
    "\n",
    "    Retorno:\n",
    "    pd.DataFrame: O DataFrame normalizado.\n",
    "    \"\"\"\n",
    "    \n",
    "    df_normalizado = pd.json_normalize(df[coluna])\n",
    "    return df_normalizado"
   ]
  },
  {
   "cell_type": "markdown",
   "id": "b5e1273c-7bc4-4c5a-a025-ea6154af28f4",
   "metadata": {},
   "source": [
    "#### dProducts"
   ]
  },
  {
   "cell_type": "code",
   "execution_count": 98,
   "id": "448315e1-613c-46ac-9411-9aef5906eb67",
   "metadata": {},
   "outputs": [],
   "source": [
    "#Recuperando os dados da dimensão \"products\"\n",
    "df_products = pd.DataFrame(fetch_data('products'))"
   ]
  },
  {
   "cell_type": "code",
   "execution_count": 99,
   "id": "bae7b27f-1e09-4cbb-89e7-8421ad953090",
   "metadata": {},
   "outputs": [],
   "source": [
    "#Tratando a coluna aninhada 'rating'\n",
    "df_products = df_products.drop(columns='rating') \\\n",
    "                         .join(normalize_nested_columns(df_products,'rating'))"
   ]
  },
  {
   "cell_type": "code",
   "execution_count": 100,
   "id": "59336331-4be9-4460-b5c3-46ab08e27b9c",
   "metadata": {},
   "outputs": [],
   "source": [
    "#Separando somente as colunas que serão necessárias para análise\n",
    "colunas = ['id','category']\n",
    "df_products = df_products[colunas]"
   ]
  },
  {
   "cell_type": "markdown",
   "id": "8aaa09b7-24d8-4d3d-92c5-757098a6c553",
   "metadata": {},
   "source": [
    "#### dUsers"
   ]
  },
  {
   "cell_type": "code",
   "execution_count": 101,
   "id": "05daddcc-b00e-4aad-829c-e66c43fbb958",
   "metadata": {},
   "outputs": [],
   "source": [
    "#Recuperando os dados da dimensão \"users\"\n",
    "df_users = pd.DataFrame(fetch_data('users'))"
   ]
  },
  {
   "cell_type": "code",
   "execution_count": 102,
   "id": "6ec6c83f-121c-45e4-9617-44fd42c0dee2",
   "metadata": {},
   "outputs": [],
   "source": [
    "# Tratando as colunas aninhadas 'name' e 'address'\n",
    "df_users = df_users.drop(columns=['name','address']) \\\n",
    "                   .join(normalize_nested_columns(df_users,'name')) \\\n",
    "                   .join(normalize_nested_columns(df_users,'address'))"
   ]
  },
  {
   "cell_type": "code",
   "execution_count": 103,
   "id": "09994b4d-10c6-4342-bee5-fdeecc24afdf",
   "metadata": {},
   "outputs": [],
   "source": [
    "#Separando as colunas que serão necessárias para análise\n",
    "cols = ['id','username','firstname','lastname']\n",
    "df_users = df_users[cols]"
   ]
  },
  {
   "cell_type": "markdown",
   "id": "2dd99598-606e-4c4d-a593-af1c914a3cbf",
   "metadata": {},
   "source": [
    "#### fCart"
   ]
  },
  {
   "cell_type": "code",
   "execution_count": 104,
   "id": "52ed04d4-f14f-4aa0-ab57-2868bd8ceaac",
   "metadata": {},
   "outputs": [],
   "source": [
    "#Recuperando os dados da fato Cart\n",
    "df_cart = pd.DataFrame(fetch_data('carts'))"
   ]
  },
  {
   "cell_type": "code",
   "execution_count": 105,
   "id": "862d4ba6-a5a5-40e7-a504-76d3bbfd50c4",
   "metadata": {},
   "outputs": [],
   "source": [
    "#O DataFrame df_cart possui uma coluna com listas de objetos, portanto é necessário \"explodir\" este objeto em várias linhas.\n",
    "#É necessário redefinir o index para que o join ocorra corretamente na etapa de normalização.\n",
    "df_cart_exploded = df_cart.explode('products').reset_index(drop=True)"
   ]
  },
  {
   "cell_type": "code",
   "execution_count": 107,
   "id": "6ae80374-319f-4e12-8611-414932c89925",
   "metadata": {},
   "outputs": [],
   "source": [
    "#Tratando a coluna aninhada \"products\" \n",
    "df_cart = df_cart_exploded.drop(columns=['products']).join(normalize_nested_columns(df_cart_exploded,'products'))"
   ]
  },
  {
   "cell_type": "code",
   "execution_count": 109,
   "id": "8fc66621-1985-478d-8001-2e6f0178f670",
   "metadata": {},
   "outputs": [],
   "source": [
    "#Para criar o DataFrame final que responde as perguntas de negócio do Case, optei por usar SQL. A biblioteca pandasql permite \n",
    "#trabalhar com SQL na manipulação de DataFrames utilizando as funções do sqlite, apesar de não apresentar a performance ideal \n",
    "#para bases muito grandes, neste caso será o suficiente.\n",
    "\n",
    "query = \"\"\"\n",
    "    WITH user_products AS (\n",
    "        SELECT\n",
    "            u.id as user_id,\n",
    "            u.firstname || ' ' || u.lastname as user_name,\n",
    "            MAX(c.date) as date_last_addition,\n",
    "            p.category,\n",
    "            SUM(c.quantity) as total_products\n",
    "        FROM df_cart c\n",
    "            INNER JOIN df_users u ON c.userId = u.id \n",
    "            LEFT JOIN df_products p ON c.productId = p.id\n",
    "        GROUP BY \n",
    "            u.id,\n",
    "            p.category\n",
    "        ORDER BY\n",
    "            u.id ASC\n",
    "    )\n",
    "    \n",
    "    SELECT\n",
    "        user_id,\n",
    "        user_name,\n",
    "        date_last_addition,\n",
    "        category,\n",
    "        MAX(total_products) as total_products\n",
    "    FROM \n",
    "        user_products\n",
    "    GROUP BY \n",
    "        user_id\n",
    "\"\"\"\n",
    "df_analise = psql.sqldf(query, locals())"
   ]
  },
  {
   "cell_type": "code",
   "execution_count": 110,
   "id": "8669ca6c",
   "metadata": {},
   "outputs": [
    {
     "data": {
      "text/html": [
       "<div>\n",
       "<style scoped>\n",
       "    .dataframe tbody tr th:only-of-type {\n",
       "        vertical-align: middle;\n",
       "    }\n",
       "\n",
       "    .dataframe tbody tr th {\n",
       "        vertical-align: top;\n",
       "    }\n",
       "\n",
       "    .dataframe thead th {\n",
       "        text-align: right;\n",
       "    }\n",
       "</style>\n",
       "<table border=\"1\" class=\"dataframe\">\n",
       "  <thead>\n",
       "    <tr style=\"text-align: right;\">\n",
       "      <th></th>\n",
       "      <th>user_id</th>\n",
       "      <th>user_name</th>\n",
       "      <th>date_last_addition</th>\n",
       "      <th>category</th>\n",
       "      <th>total_products</th>\n",
       "    </tr>\n",
       "  </thead>\n",
       "  <tbody>\n",
       "    <tr>\n",
       "      <th>0</th>\n",
       "      <td>1</td>\n",
       "      <td>john doe</td>\n",
       "      <td>2020-03-02T00:00:00.000Z</td>\n",
       "      <td>men's clothing</td>\n",
       "      <td>25</td>\n",
       "    </tr>\n",
       "    <tr>\n",
       "      <th>1</th>\n",
       "      <td>2</td>\n",
       "      <td>david morrison</td>\n",
       "      <td>2020-03-01T00:00:00.000Z</td>\n",
       "      <td>men's clothing</td>\n",
       "      <td>2</td>\n",
       "    </tr>\n",
       "    <tr>\n",
       "      <th>2</th>\n",
       "      <td>3</td>\n",
       "      <td>kevin ryan</td>\n",
       "      <td>2020-01-01T00:00:00.000Z</td>\n",
       "      <td>men's clothing</td>\n",
       "      <td>4</td>\n",
       "    </tr>\n",
       "    <tr>\n",
       "      <th>3</th>\n",
       "      <td>4</td>\n",
       "      <td>don romer</td>\n",
       "      <td>2020-03-01T00:00:00.000Z</td>\n",
       "      <td>electronics</td>\n",
       "      <td>5</td>\n",
       "    </tr>\n",
       "    <tr>\n",
       "      <th>4</th>\n",
       "      <td>8</td>\n",
       "      <td>william hopkins</td>\n",
       "      <td>2020-03-01T00:00:00.000Z</td>\n",
       "      <td>women's clothing</td>\n",
       "      <td>1</td>\n",
       "    </tr>\n",
       "  </tbody>\n",
       "</table>\n",
       "</div>"
      ],
      "text/plain": [
       "   user_id        user_name        date_last_addition          category  \\\n",
       "0        1         john doe  2020-03-02T00:00:00.000Z    men's clothing   \n",
       "1        2   david morrison  2020-03-01T00:00:00.000Z    men's clothing   \n",
       "2        3       kevin ryan  2020-01-01T00:00:00.000Z    men's clothing   \n",
       "3        4        don romer  2020-03-01T00:00:00.000Z       electronics   \n",
       "4        8  william hopkins  2020-03-01T00:00:00.000Z  women's clothing   \n",
       "\n",
       "   total_products  \n",
       "0              25  \n",
       "1               2  \n",
       "2               4  \n",
       "3               5  \n",
       "4               1  "
      ]
     },
     "execution_count": 110,
     "metadata": {},
     "output_type": "execute_result"
    }
   ],
   "source": [
    "df_analise"
   ]
  },
  {
   "cell_type": "code",
   "execution_count": 111,
   "id": "34c105c7",
   "metadata": {},
   "outputs": [],
   "source": [
    "#Exportando o df_analise em um arquivo JSON para entrega\n",
    "df_analise.to_csv('../data/analise.csv', index=False)"
   ]
  }
 ],
 "metadata": {
  "kernelspec": {
   "display_name": "Python 3 (ipykernel)",
   "language": "python",
   "name": "python3"
  },
  "language_info": {
   "codemirror_mode": {
    "name": "ipython",
    "version": 3
   },
   "file_extension": ".py",
   "mimetype": "text/x-python",
   "name": "python",
   "nbconvert_exporter": "python",
   "pygments_lexer": "ipython3",
   "version": "3.12.2"
  }
 },
 "nbformat": 4,
 "nbformat_minor": 5
}
