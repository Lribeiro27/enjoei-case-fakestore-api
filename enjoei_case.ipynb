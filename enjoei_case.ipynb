{
 "cells": [
  {
   "cell_type": "code",
   "execution_count": 1,
   "id": "9ecb4164-fd38-4936-9acb-0b42b2a137aa",
   "metadata": {},
   "outputs": [],
   "source": [
    "#Imports\n",
    "import requests\n",
    "import pandas as pd\n",
    "import pandasql as psql"
   ]
  },
  {
   "cell_type": "code",
   "execution_count": 2,
   "id": "d09e0312-ee46-4b73-aa25-5e0f509213f8",
   "metadata": {},
   "outputs": [],
   "source": [
    "#Url da Fake Store API\n",
    "url = 'https://fakestoreapi.com/'"
   ]
  },
  {
   "cell_type": "code",
   "execution_count": 3,
   "id": "379f004b-dca5-46c4-b061-0cc8fa782820",
   "metadata": {},
   "outputs": [],
   "source": [
    "#Definindo a função que faz a chamada à API FakeStore, retornando o json com os resultados ou uma exceção.\n",
    "def busca_dados(endpoint):\n",
    "    try: \n",
    "        response = requests.get(f'{url}{endpoint}')\n",
    "        response.raise_for_status()\n",
    "        return response.json()\n",
    "    except requests.exceptions.RequestException as e:\n",
    "        print(f\"Erro ao buscar dados do endpoint {endpoint}\")\n",
    "        return None"
   ]
  },
  {
   "cell_type": "code",
   "execution_count": 4,
   "id": "296f479c-8539-47ee-a81b-c62655615dd0",
   "metadata": {},
   "outputs": [],
   "source": [
    "#No desenvolvimento do código notei que várias colunas vieram aninhadas \"nested columns\" e optei \n",
    "#por criar uma função que resolva o problema.\n",
    "def trata_aninhamento(df, coluna):\n",
    "    df_normalizado = pd.json_normalize(df[coluna])\n",
    "    return df_normalizado"
   ]
  },
  {
   "cell_type": "markdown",
   "id": "b5e1273c-7bc4-4c5a-a025-ea6154af28f4",
   "metadata": {},
   "source": [
    "#### dProducts"
   ]
  },
  {
   "cell_type": "code",
   "execution_count": 8,
   "id": "448315e1-613c-46ac-9411-9aef5906eb67",
   "metadata": {},
   "outputs": [],
   "source": [
    "#Recuperando os dados da dimensão \"products\"\n",
    "df_products = pd.DataFrame(busca_dados('products'))"
   ]
  },
  {
   "cell_type": "code",
   "execution_count": 6,
   "id": "bae7b27f-1e09-4cbb-89e7-8421ad953090",
   "metadata": {},
   "outputs": [
    {
     "ename": "KeyError",
     "evalue": "\"['rating'] not found in axis\"",
     "output_type": "error",
     "traceback": [
      "\u001b[0;31m---------------------------------------------------------------------------\u001b[0m",
      "\u001b[0;31mKeyError\u001b[0m                                  Traceback (most recent call last)",
      "Cell \u001b[0;32mIn[6], line 2\u001b[0m\n\u001b[1;32m      1\u001b[0m \u001b[38;5;66;03m#Tratando a coluna aninhada 'rating'\u001b[39;00m\n\u001b[0;32m----> 2\u001b[0m df_products \u001b[38;5;241m=\u001b[39m \u001b[43mdf_products\u001b[49m\u001b[38;5;241;43m.\u001b[39;49m\u001b[43mdrop\u001b[49m\u001b[43m(\u001b[49m\u001b[43mcolumns\u001b[49m\u001b[38;5;241;43m=\u001b[39;49m\u001b[38;5;124;43m'\u001b[39;49m\u001b[38;5;124;43mrating\u001b[39;49m\u001b[38;5;124;43m'\u001b[39;49m\u001b[43m)\u001b[49m \\\n\u001b[1;32m      3\u001b[0m                          \u001b[38;5;241m.\u001b[39mjoin(trata_aninhamento(df_products,coluna_aninhada))\n",
      "File \u001b[0;32m/opt/conda/lib/python3.11/site-packages/pandas/core/frame.py:5258\u001b[0m, in \u001b[0;36mDataFrame.drop\u001b[0;34m(self, labels, axis, index, columns, level, inplace, errors)\u001b[0m\n\u001b[1;32m   5110\u001b[0m \u001b[38;5;28;01mdef\u001b[39;00m \u001b[38;5;21mdrop\u001b[39m(\n\u001b[1;32m   5111\u001b[0m     \u001b[38;5;28mself\u001b[39m,\n\u001b[1;32m   5112\u001b[0m     labels: IndexLabel \u001b[38;5;241m=\u001b[39m \u001b[38;5;28;01mNone\u001b[39;00m,\n\u001b[0;32m   (...)\u001b[0m\n\u001b[1;32m   5119\u001b[0m     errors: IgnoreRaise \u001b[38;5;241m=\u001b[39m \u001b[38;5;124m\"\u001b[39m\u001b[38;5;124mraise\u001b[39m\u001b[38;5;124m\"\u001b[39m,\n\u001b[1;32m   5120\u001b[0m ) \u001b[38;5;241m-\u001b[39m\u001b[38;5;241m>\u001b[39m DataFrame \u001b[38;5;241m|\u001b[39m \u001b[38;5;28;01mNone\u001b[39;00m:\n\u001b[1;32m   5121\u001b[0m \u001b[38;5;250m    \u001b[39m\u001b[38;5;124;03m\"\"\"\u001b[39;00m\n\u001b[1;32m   5122\u001b[0m \u001b[38;5;124;03m    Drop specified labels from rows or columns.\u001b[39;00m\n\u001b[1;32m   5123\u001b[0m \n\u001b[0;32m   (...)\u001b[0m\n\u001b[1;32m   5256\u001b[0m \u001b[38;5;124;03m            weight  1.0     0.8\u001b[39;00m\n\u001b[1;32m   5257\u001b[0m \u001b[38;5;124;03m    \"\"\"\u001b[39;00m\n\u001b[0;32m-> 5258\u001b[0m     \u001b[38;5;28;01mreturn\u001b[39;00m \u001b[38;5;28;43msuper\u001b[39;49m\u001b[43m(\u001b[49m\u001b[43m)\u001b[49m\u001b[38;5;241;43m.\u001b[39;49m\u001b[43mdrop\u001b[49m\u001b[43m(\u001b[49m\n\u001b[1;32m   5259\u001b[0m \u001b[43m        \u001b[49m\u001b[43mlabels\u001b[49m\u001b[38;5;241;43m=\u001b[39;49m\u001b[43mlabels\u001b[49m\u001b[43m,\u001b[49m\n\u001b[1;32m   5260\u001b[0m \u001b[43m        \u001b[49m\u001b[43maxis\u001b[49m\u001b[38;5;241;43m=\u001b[39;49m\u001b[43maxis\u001b[49m\u001b[43m,\u001b[49m\n\u001b[1;32m   5261\u001b[0m \u001b[43m        \u001b[49m\u001b[43mindex\u001b[49m\u001b[38;5;241;43m=\u001b[39;49m\u001b[43mindex\u001b[49m\u001b[43m,\u001b[49m\n\u001b[1;32m   5262\u001b[0m \u001b[43m        \u001b[49m\u001b[43mcolumns\u001b[49m\u001b[38;5;241;43m=\u001b[39;49m\u001b[43mcolumns\u001b[49m\u001b[43m,\u001b[49m\n\u001b[1;32m   5263\u001b[0m \u001b[43m        \u001b[49m\u001b[43mlevel\u001b[49m\u001b[38;5;241;43m=\u001b[39;49m\u001b[43mlevel\u001b[49m\u001b[43m,\u001b[49m\n\u001b[1;32m   5264\u001b[0m \u001b[43m        \u001b[49m\u001b[43minplace\u001b[49m\u001b[38;5;241;43m=\u001b[39;49m\u001b[43minplace\u001b[49m\u001b[43m,\u001b[49m\n\u001b[1;32m   5265\u001b[0m \u001b[43m        \u001b[49m\u001b[43merrors\u001b[49m\u001b[38;5;241;43m=\u001b[39;49m\u001b[43merrors\u001b[49m\u001b[43m,\u001b[49m\n\u001b[1;32m   5266\u001b[0m \u001b[43m    \u001b[49m\u001b[43m)\u001b[49m\n",
      "File \u001b[0;32m/opt/conda/lib/python3.11/site-packages/pandas/core/generic.py:4549\u001b[0m, in \u001b[0;36mNDFrame.drop\u001b[0;34m(self, labels, axis, index, columns, level, inplace, errors)\u001b[0m\n\u001b[1;32m   4547\u001b[0m \u001b[38;5;28;01mfor\u001b[39;00m axis, labels \u001b[38;5;129;01min\u001b[39;00m axes\u001b[38;5;241m.\u001b[39mitems():\n\u001b[1;32m   4548\u001b[0m     \u001b[38;5;28;01mif\u001b[39;00m labels \u001b[38;5;129;01mis\u001b[39;00m \u001b[38;5;129;01mnot\u001b[39;00m \u001b[38;5;28;01mNone\u001b[39;00m:\n\u001b[0;32m-> 4549\u001b[0m         obj \u001b[38;5;241m=\u001b[39m \u001b[43mobj\u001b[49m\u001b[38;5;241;43m.\u001b[39;49m\u001b[43m_drop_axis\u001b[49m\u001b[43m(\u001b[49m\u001b[43mlabels\u001b[49m\u001b[43m,\u001b[49m\u001b[43m \u001b[49m\u001b[43maxis\u001b[49m\u001b[43m,\u001b[49m\u001b[43m \u001b[49m\u001b[43mlevel\u001b[49m\u001b[38;5;241;43m=\u001b[39;49m\u001b[43mlevel\u001b[49m\u001b[43m,\u001b[49m\u001b[43m \u001b[49m\u001b[43merrors\u001b[49m\u001b[38;5;241;43m=\u001b[39;49m\u001b[43merrors\u001b[49m\u001b[43m)\u001b[49m\n\u001b[1;32m   4551\u001b[0m \u001b[38;5;28;01mif\u001b[39;00m inplace:\n\u001b[1;32m   4552\u001b[0m     \u001b[38;5;28mself\u001b[39m\u001b[38;5;241m.\u001b[39m_update_inplace(obj)\n",
      "File \u001b[0;32m/opt/conda/lib/python3.11/site-packages/pandas/core/generic.py:4591\u001b[0m, in \u001b[0;36mNDFrame._drop_axis\u001b[0;34m(self, labels, axis, level, errors, only_slice)\u001b[0m\n\u001b[1;32m   4589\u001b[0m         new_axis \u001b[38;5;241m=\u001b[39m axis\u001b[38;5;241m.\u001b[39mdrop(labels, level\u001b[38;5;241m=\u001b[39mlevel, errors\u001b[38;5;241m=\u001b[39merrors)\n\u001b[1;32m   4590\u001b[0m     \u001b[38;5;28;01melse\u001b[39;00m:\n\u001b[0;32m-> 4591\u001b[0m         new_axis \u001b[38;5;241m=\u001b[39m \u001b[43maxis\u001b[49m\u001b[38;5;241;43m.\u001b[39;49m\u001b[43mdrop\u001b[49m\u001b[43m(\u001b[49m\u001b[43mlabels\u001b[49m\u001b[43m,\u001b[49m\u001b[43m \u001b[49m\u001b[43merrors\u001b[49m\u001b[38;5;241;43m=\u001b[39;49m\u001b[43merrors\u001b[49m\u001b[43m)\u001b[49m\n\u001b[1;32m   4592\u001b[0m     indexer \u001b[38;5;241m=\u001b[39m axis\u001b[38;5;241m.\u001b[39mget_indexer(new_axis)\n\u001b[1;32m   4594\u001b[0m \u001b[38;5;66;03m# Case for non-unique axis\u001b[39;00m\n\u001b[1;32m   4595\u001b[0m \u001b[38;5;28;01melse\u001b[39;00m:\n",
      "File \u001b[0;32m/opt/conda/lib/python3.11/site-packages/pandas/core/indexes/base.py:6699\u001b[0m, in \u001b[0;36mIndex.drop\u001b[0;34m(self, labels, errors)\u001b[0m\n\u001b[1;32m   6697\u001b[0m \u001b[38;5;28;01mif\u001b[39;00m mask\u001b[38;5;241m.\u001b[39many():\n\u001b[1;32m   6698\u001b[0m     \u001b[38;5;28;01mif\u001b[39;00m errors \u001b[38;5;241m!=\u001b[39m \u001b[38;5;124m\"\u001b[39m\u001b[38;5;124mignore\u001b[39m\u001b[38;5;124m\"\u001b[39m:\n\u001b[0;32m-> 6699\u001b[0m         \u001b[38;5;28;01mraise\u001b[39;00m \u001b[38;5;167;01mKeyError\u001b[39;00m(\u001b[38;5;124mf\u001b[39m\u001b[38;5;124m\"\u001b[39m\u001b[38;5;132;01m{\u001b[39;00m\u001b[38;5;28mlist\u001b[39m(labels[mask])\u001b[38;5;132;01m}\u001b[39;00m\u001b[38;5;124m not found in axis\u001b[39m\u001b[38;5;124m\"\u001b[39m)\n\u001b[1;32m   6700\u001b[0m     indexer \u001b[38;5;241m=\u001b[39m indexer[\u001b[38;5;241m~\u001b[39mmask]\n\u001b[1;32m   6701\u001b[0m \u001b[38;5;28;01mreturn\u001b[39;00m \u001b[38;5;28mself\u001b[39m\u001b[38;5;241m.\u001b[39mdelete(indexer)\n",
      "\u001b[0;31mKeyError\u001b[0m: \"['rating'] not found in axis\""
     ]
    }
   ],
   "source": [
    "#Tratando a coluna aninhada 'rating'\n",
    "df_products = df_products.drop(columns='rating') \\\n",
    "                         .join(trata_aninhamento(df_products,coluna_aninhada))"
   ]
  },
  {
   "cell_type": "code",
   "execution_count": null,
   "id": "59336331-4be9-4460-b5c3-46ab08e27b9c",
   "metadata": {},
   "outputs": [],
   "source": [
    "#Separando somente as colunas que serão necessárias para análise\n",
    "colunas = ['id','category']\n",
    "df_products = df_products[colunas]"
   ]
  },
  {
   "cell_type": "markdown",
   "id": "8aaa09b7-24d8-4d3d-92c5-757098a6c553",
   "metadata": {},
   "source": [
    "#### dUsers"
   ]
  },
  {
   "cell_type": "code",
   "execution_count": null,
   "id": "05daddcc-b00e-4aad-829c-e66c43fbb958",
   "metadata": {},
   "outputs": [],
   "source": [
    "#Recuperando os dados da dimensão \"users\"\n",
    "df_users = pd.DataFrame(busca_dados('users'))"
   ]
  },
  {
   "cell_type": "code",
   "execution_count": null,
   "id": "6ec6c83f-121c-45e4-9617-44fd42c0dee2",
   "metadata": {},
   "outputs": [],
   "source": [
    "# Tratando as colunas aninhadas 'name' e 'address'\n",
    "df_users = df_users.drop(columns=['name','address']) \\\n",
    "                   .join(trata_aninhamento(df_users,'name')) \\\n",
    "                   .join(trata_aninhamento(df_users,'address'))"
   ]
  },
  {
   "cell_type": "code",
   "execution_count": null,
   "id": "09994b4d-10c6-4342-bee5-fdeecc24afdf",
   "metadata": {},
   "outputs": [],
   "source": [
    "#Separando as colunas que serão necessárias para análise\n",
    "cols = ['id','username','firstname','lastname']\n",
    "df_users = df_users[cols]"
   ]
  },
  {
   "cell_type": "markdown",
   "id": "2dd99598-606e-4c4d-a593-af1c914a3cbf",
   "metadata": {},
   "source": [
    "#### fCart"
   ]
  },
  {
   "cell_type": "code",
   "execution_count": null,
   "id": "52ed04d4-f14f-4aa0-ab57-2868bd8ceaac",
   "metadata": {},
   "outputs": [],
   "source": [
    "#Recuperando os dados da fato Cart\n",
    "df_cart = pd.DataFrame(busca_dados('carts'))"
   ]
  },
  {
   "cell_type": "code",
   "execution_count": null,
   "id": "862d4ba6-a5a5-40e7-a504-76d3bbfd50c4",
   "metadata": {},
   "outputs": [],
   "source": [
    "#O DataFrame df_cart possui colunas com listas de objetos, portanto é necessário \"explodir\" estes objetos em várias linhas\n",
    "df_cart_exploded = df_cart.explode('products')"
   ]
  },
  {
   "cell_type": "code",
   "execution_count": null,
   "id": "6ae80374-319f-4e12-8611-414932c89925",
   "metadata": {},
   "outputs": [],
   "source": [
    "#Tratando a coluna aninhada \"products\" \n",
    "df_cart = df_cart_exploded.drop(columns=['products']).join(trata_aninhamento(df_cart_exploded,'products'))"
   ]
  },
  {
   "cell_type": "code",
   "execution_count": null,
   "id": "8fc66621-1985-478d-8001-2e6f0178f670",
   "metadata": {},
   "outputs": [],
   "source": [
    "#Para criar o DataFrame final que responde as perguntas de negócio do Case, optei por usar SQL. A biblioteca pandasql permite \n",
    "#trabalhar com SQL na manipulação de DataFrames utilizando as funções do sqlite, apesar de não apresentar a performance ideal \n",
    "#para bases muito grandes, neste caso será o suficiente.\n",
    "\n",
    "query = \"\"\"\n",
    "    SELECT\n",
    "        u.id as user_id,\n",
    "        u.firstname || ' ' || u.lastname as user_name,\n",
    "        MAX(c.date) as date_last_addition,\n",
    "        p.category,\n",
    "        SUM(c.quantity)\n",
    "    FROM df_users u\n",
    "        LEFT JOIN df_cart c ON u.id = c.userId\n",
    "        LEFT JOIN df_products p ON c.productId = p.id\n",
    "    GROUP BY \n",
    "        u.id\n",
    "\"\"\"\n",
    "df_analise = psql.sqldf(query, locals())"
   ]
  },
  {
   "cell_type": "code",
   "execution_count": null,
   "id": "dd09bc5a-2e4e-4a09-9791-a89da12f3c28",
   "metadata": {},
   "outputs": [],
   "source": []
  }
 ],
 "metadata": {
  "kernelspec": {
   "display_name": "Python 3 (ipykernel)",
   "language": "python",
   "name": "python3"
  },
  "language_info": {
   "codemirror_mode": {
    "name": "ipython",
    "version": 3
   },
   "file_extension": ".py",
   "mimetype": "text/x-python",
   "name": "python",
   "nbconvert_exporter": "python",
   "pygments_lexer": "ipython3",
   "version": "3.11.6"
  }
 },
 "nbformat": 4,
 "nbformat_minor": 5
}
